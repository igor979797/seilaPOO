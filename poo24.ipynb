{
  "nbformat": 4,
  "nbformat_minor": 0,
  "metadata": {
    "colab": {
      "provenance": [],
      "authorship_tag": "ABX9TyOmVglbomsCoElHN5cn8xwZ",
      "include_colab_link": true
    },
    "kernelspec": {
      "name": "python3",
      "display_name": "Python 3"
    },
    "language_info": {
      "name": "python"
    }
  },
  "cells": [
    {
      "cell_type": "markdown",
      "metadata": {
        "id": "view-in-github",
        "colab_type": "text"
      },
      "source": [
        "<a href=\"https://colab.research.google.com/github/igor979797/seilaPOO/blob/main/poo24.ipynb\" target=\"_parent\"><img src=\"https://colab.research.google.com/assets/colab-badge.svg\" alt=\"Open In Colab\"/></a>"
      ]
    },
    {
      "cell_type": "code",
      "execution_count": 3,
      "metadata": {
        "colab": {
          "base_uri": "https://localhost:8080/"
        },
        "id": "e-yjy9LjiLTP",
        "outputId": "efee7494-69cd-47d4-a9b4-b776d250e1fd"
      },
      "outputs": [
        {
          "output_type": "stream",
          "name": "stdout",
          "text": [
            "Digite valor em Graus Farenheit: 50\n",
            "O valor de 50.0ºF correponde ao valor de 10.0ºC\n"
          ]
        }
      ],
      "source": [
        "F = float(input(\"Digite valor em Graus Farenheit: \"))\n",
        "C = (5/9)*(F-32)\n",
        "print(f\"O valor de {F}ºF correponde ao valor de {C}ºC\")"
      ]
    },
    {
      "cell_type": "markdown",
      "source": [
        "#ex.3 CONVERTER POLEGADAS PARA MM\n",
        "ENTRADA: P\n",
        "PROCESSAMENTO: MM = P*25.4\n",
        "SAIDA:MM"
      ],
      "metadata": {
        "id": "HcCADogZkTTJ"
      }
    },
    {
      "cell_type": "code",
      "source": [
        "P = float(input(\"Digite valor em Polegadas: \"))\n",
        "MM = P*25.4\n",
        "print(f\"O valor de {P}pol corresponde ao valor de {MM:.2f}mm\")"
      ],
      "metadata": {
        "colab": {
          "base_uri": "https://localhost:8080/"
        },
        "id": "G1-UQ1BwklUm",
        "outputId": "277c5808-9beb-42e6-da9b-222a55dacdb5"
      },
      "execution_count": 6,
      "outputs": [
        {
          "output_type": "stream",
          "name": "stdout",
          "text": [
            "Digite valor em Polegadas: 10.592063232\n",
            "O valor de 10.592063232pol corresponde ao valor de 269.04mm\n"
          ]
        }
      ]
    },
    {
      "cell_type": "markdown",
      "source": [
        "RESOLUÇAO DO MESMO EX. DE GRAUS FARENHEIT SEM *PRINTF*"
      ],
      "metadata": {
        "id": "j-nB_BzL2LbM"
      }
    },
    {
      "cell_type": "code",
      "source": [
        "F = float(input(\"Digite valor em Graus Farenheit: \"))\n",
        "C = (5/9)*(F-32)\n",
        "print(\"Graus Celsius: \", C)"
      ],
      "metadata": {
        "colab": {
          "base_uri": "https://localhost:8080/"
        },
        "id": "NnkpOb5O2YkV",
        "outputId": "04234016-e876-4a8b-f02a-e626fb7adef5"
      },
      "execution_count": 9,
      "outputs": [
        {
          "output_type": "stream",
          "name": "stdout",
          "text": [
            "Digite valor em Graus Farenheit: 50\n",
            "Graus Celsius:  10.0\n"
          ]
        }
      ]
    }
  ]
}